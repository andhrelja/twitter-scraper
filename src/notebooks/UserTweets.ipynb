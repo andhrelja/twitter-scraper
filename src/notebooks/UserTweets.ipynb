{
 "cells": [
  {
   "cell_type": "code",
   "execution_count": 2,
   "metadata": {},
   "outputs": [
    {
     "name": "stdout",
     "output_type": "stream",
     "text": [
      "<class 'pandas.core.frame.DataFrame'>\n",
      "RangeIndex: 1796136 entries, 0 to 1796135\n",
      "Data columns (total 8 columns):\n",
      " #   Column      Dtype              \n",
      "---  ------      -----              \n",
      " 0   Unnamed: 0  int64              \n",
      " 1   id          int64              \n",
      " 2   user_id     int64              \n",
      " 3   full_text   object             \n",
      " 4   created_at  datetime64[ns, UTC]\n",
      " 5   week        object             \n",
      " 6   month       object             \n",
      " 7   is_covid    bool               \n",
      "dtypes: bool(1), datetime64[ns, UTC](1), int64(3), object(3)\n",
      "memory usage: 97.6+ MB\n"
     ]
    }
   ],
   "source": [
    "import os\n",
    "import json\n",
    "import pytz\n",
    "import pandas as pd\n",
    "import datetime as dt\n",
    "import matplotlib.pyplot as plt\n",
    "\n",
    "ROOT_DIR = os.path.dirname(os.path.dirname(os.getcwd()))\n",
    "USERS_TWEETS_DIR = os.path.join(ROOT_DIR, 'output', 'tweets', '2022-02-05')\n",
    "\n",
    "keywords = {\n",
    "    'covid': [\n",
    "      'alemka', 'markotic', 'markotić', 'beros', 'beroš', 'capak', 'hzjz',\n",
    "      \n",
    "      'antigensk', 'antimaskeri', 'antivakseri',\n",
    "      \n",
    "      'cijep', 'cijepiv', 'cijeplj', 'cijepljen', 'cjep', 'cjepiv', 'cjepljen',\n",
    "      \n",
    "      'booster doza', 'prva doza', 'druga doza', 'treca doza', 'treća doza',\n",
    "      'astra zeneca', 'biontech', 'curevac', 'inovio', 'janssen', 'johnson', \n",
    "      'novavax', 'moderna', 'pfizer', 'vaxart',\n",
    "      \n",
    "      'sojevi koronavirusa', 'brazilski', 'britanski', 'ceski soj', 'delta', \n",
    "      'indijski', 'juznoafricki', 'južnoafrički', 'lambda', \n",
    "      'njujorski',  'njujorški', 'omikorn', 'omikron', 'novi soj', 'češki soj'\n",
    "      \n",
    "      'coron', 'corona', 'covid', 'covid-19', 'covid 19', 'koron', 'korona', 'kovid', \n",
    "      'ncov', 'mutira', 'mutaci', 'n95', 'sars-cov-2', 'sarscov2', 'sputnik',\n",
    "      \n",
    "      'inkubacij', 'ljekov', 'obolje', 'novozaražen', 'nuspoj', 'patoge', 'regeneron', \n",
    "      'medicin', 'infekc', 'dezinf', 'bolnic', 'dijagnost', 'doktor', 'epidem', \n",
    "      'respir', 'respirator', 'simpto', 'rt pcr', 'terapij', 'viro', 'virus',\n",
    "      \n",
    "      'slusaj struku', 'slušaj struku', 'propusnic', 'ostani doma', 'ostanimo doma', 'zaraž', \n",
    "      'festivala slobod',  'pcr', 'samoizola','samoizolacij', 'testira', 'zaraz',\n",
    "      'distanc', 'izolac', 'karant', 'lockd', 'mask', 'festival slobod', \n",
    "      'ostanimo odgovorni', 'pandem', 'pandemij', 'stozer', 'stožer',\n",
    "    ]\n",
    "}\n",
    "\n",
    "\n",
    "if not os.path.exists('tweets.csv'):\n",
    "    data = []\n",
    "    for fn in os.listdir(USERS_TWEETS_DIR):\n",
    "        with open(os.path.join(USERS_TWEETS_DIR, fn), 'r', encoding='utf-8') as f:\n",
    "            content = json.load(f)\n",
    "        for item in content:\n",
    "            data.append({\n",
    "                'id': item.get('id'),\n",
    "                'user_id': item.get('user').get('id'),\n",
    "                'full_text': item.get('full_text'),\n",
    "                'created_at': item.get('created_at')\n",
    "            })\n",
    "\n",
    "    df = pd.DataFrame(data)\n",
    "    df['created_at'] = pd.to_datetime(df['created_at'], format='%a %b %d %H:%M:%S %z %Y') # 30s\n",
    "    df['week']  = df['created_at'].dt.strftime('%Y-%W')\n",
    "    df['month'] = df['created_at'].dt.strftime('%Y-%m')\n",
    "else:\n",
    "    df = pd.read_csv('tweets.csv')\n",
    "    df['created_at'] = pd.to_datetime(df['created_at'], format='%Y-%m-%d %H:%M:%S%z') # 30s\n",
    "\n",
    "df.info()"
   ]
  },
  {
   "cell_type": "code",
   "execution_count": 31,
   "metadata": {},
   "outputs": [
    {
     "name": "stdout",
     "output_type": "stream",
     "text": [
      "Total # of Tweets: 6367710\n",
      "# of Tweets in 2022: 489676\n",
      "# of Tweets from 2021-08-01 - 2022-02-01: 1796136\n"
     ]
    }
   ],
   "source": [
    "print(\"Total # of Tweets:\", len(df))\n",
    "print(\"# of Tweets in 2022:\", len(df[df['created_at'] > dt.datetime(2022, 1, 1, 0, 0, 0, 0, pytz.UTC)]))\n",
    "\n",
    "df = df[\n",
    "    (df['created_at'] > dt.datetime(2021, 8, 1, 0, 0, 0, 0, pytz.UTC))\n",
    "    & (df['created_at'] < dt.datetime(2022, 1, 31, 0, 0, 0, 0, pytz.UTC))\n",
    "]\n",
    "print(\"# of Tweets from 2021-08-01 - 2022-02-01:\", len(df))"
   ]
  },
  {
   "cell_type": "code",
   "execution_count": 32,
   "metadata": {},
   "outputs": [],
   "source": [
    "\n",
    "df['is_covid'] = df['full_text'].transform(lambda x: any(\n",
    "        isinstance(x, str) and (tag in x.lower()\n",
    "        or tag.replace(' ', '') in x.replace(' ', ''))\n",
    "    for tag in keywords['covid']))"
   ]
  },
  {
   "cell_type": "code",
   "execution_count": 109,
   "metadata": {},
   "outputs": [
    {
     "data": {
      "image/png": "[encoded data removed]",
      "text/plain": [
       "<Figure size 1008x288 with 2 Axes>"
      ]
     },
     "metadata": {
      "needs_background": "light"
     },
     "output_type": "display_data"
    }
   ],
   "source": [
    "fig, ax = plt.subplots(ncols=2, figsize=(14, 4))\n",
    "\n",
    "\n",
    "df.groupby(['month', 'is_covid']).size().unstack('is_covid') \\\n",
    "    .plot.bar(\n",
    "        title=\"Number of all Tweets by month\", \n",
    "        rot=0,\n",
    "        ax=ax[0],\n",
    "        color=['#ffffff', '#f8cecc'],\n",
    "        edgecolor='black'\n",
    "    )\n",
    "ax[0].legend(['Regular', 'C19'])\n",
    "ax[0].set_xlabel(None)\n",
    "\n",
    "df.groupby(['month', 'is_covid']).size().unstack('is_covid') \\\n",
    "    .plot.bar(\n",
    "        title=\"Log number of all Tweets by month\", \n",
    "        rot=0,\n",
    "        ax=ax[1],\n",
    "        color=['#ffffff', '#f8cecc'],\n",
    "        edgecolor='black',\n",
    "        logy=True\n",
    "    )\n",
    "ax[1].legend(['Regular', 'C19'])\n",
    "ax[1].set_xlabel(None)\n",
    "\n",
    "plt.show()"
   ]
  },
  {
   "cell_type": "code",
   "execution_count": 7,
   "metadata": {},
   "outputs": [
    {
     "data": {
      "image/png": "[encoded data removed]",
      "text/plain": [
       "<Figure size 576x432 with 1 Axes>"
      ]
     },
     "metadata": {
      "needs_background": "light"
     },
     "output_type": "display_data"
    }
   ],
   "source": [
    "df.groupby('month').size().plot.bar(title=\"Number of all Tweets by month\", rot=0, figsize=(8, 6))\n",
    "plt.xlabel(None)\n",
    "plt.show()"
   ]
  },
  {
   "cell_type": "code",
   "execution_count": 94,
   "metadata": {},
   "outputs": [
    {
     "name": "stdout",
     "output_type": "stream",
     "text": [
      "All Tweets: 1796136\n"
     ]
    },
    {
     "data": {
      "text/plain": [
       "is_covid\n",
       "False    1744627\n",
       "True       51509\n",
       "dtype: int64"
      ]
     },
     "execution_count": 94,
     "metadata": {},
     "output_type": "execute_result"
    }
   ],
   "source": [
    "print(\"All Tweets:\", len(df))\n",
    "df.groupby('is_covid').size()"
   ]
  },
  {
   "cell_type": "code",
   "execution_count": 65,
   "metadata": {},
   "outputs": [
    {
     "name": "stdout",
     "output_type": "stream",
     "text": [
      "[all] Unique # of users: 8809\n",
      "[all] Unique # of users with at least 5 Tweets: 6110\n",
      "[at least 1 covid tweet] Unique # of users: 3060\n",
      "[at least 1 covid tweet] Unique # of users with at least 5 Tweets: 2935\n"
     ]
    }
   ],
   "source": [
    "users_df = df.groupby('user_id').size().reset_index(name='total_tweets').set_index('user_id')\n",
    "users_df['covid_tweets'] = df[df['is_covid'] == True].groupby('user_id').size()\n",
    "users_df['is_covid'] = users_df['covid_tweets'].transform(lambda x: x > 0)\n",
    "users_df['covid_tweets'] = users_df['covid_tweets'].fillna(0)\n",
    "users_df['covid_pct'] = users_df['covid_tweets'] / users_df['total_tweets']\n",
    "\n",
    "print(\"[all] Unique # of users:\", len(users_df))\n",
    "print(\"[all] Unique # of users with at least 5 Tweets:\", len(users_df[users_df['total_tweets'] > 5]))\n",
    "\n",
    "print(\"[at least 1 covid tweet] Unique # of users:\", len(users_df[users_df['is_covid'] == True]))\n",
    "print(\"[at least 1 covid tweet] Unique # of users with at least 5 Tweets:\", len(users_df[(users_df['is_covid'] == True) & (users_df['total_tweets'] > 5)]))\n",
    "\n",
    "users_df.sort_values(by='covid_pct', ascending=False).to_csv('user_tweets.csv')"
   ]
  },
  {
   "cell_type": "code",
   "execution_count": 96,
   "metadata": {},
   "outputs": [
    {
     "data": {
      "image/png": "[encoded data removed]",
      "text/plain": [
       "<Figure size 432x288 with 1 Axes>"
      ]
     },
     "metadata": {
      "needs_background": "light"
     },
     "output_type": "display_data"
    }
   ],
   "source": [
    "users_df[['total_tweets', 'covid_tweets']] \\\n",
    "    .sort_values(by='covid_tweets', ascending=False) \\\n",
    "    .head(10) \\\n",
    "    .plot.bar()\n",
    "\n",
    "plt.show()"
   ]
  },
  {
   "cell_type": "code",
   "execution_count": 57,
   "metadata": {},
   "outputs": [
    {
     "data": {
      "text/plain": [
       "<AxesSubplot:ylabel='Frequency'>"
      ]
     },
     "execution_count": 57,
     "metadata": {},
     "output_type": "execute_result"
    },
    {
     "data": {
      "image/png": "[encoded data removed]",
      "text/plain": [
       "<Figure size 432x288 with 1 Axes>"
      ]
     },
     "metadata": {
      "needs_background": "light"
     },
     "output_type": "display_data"
    }
   ],
   "source": [
    "users_df[users_df['is_covid'] == True][['covid_pct']].plot.hist(logy=True)"
   ]
  },
  {
   "cell_type": "code",
   "execution_count": 103,
   "metadata": {},
   "outputs": [],
   "source": [
    "users_friends = {}\n",
    "for fn in os.listdir(os.path.join(ROOT_DIR, 'output', 'users', 'ids', '2022-02-04')):\n",
    "    user_id_str = fn.replace('.json', '')\n",
    "    if int(user_id_str) in users_df.index:\n",
    "        fpath = os.path.join(ROOT_DIR, 'output', 'users', 'ids', '2022-02-04', fn)\n",
    "        with open(fpath, 'r') as f:\n",
    "            user = json.load(f).get(user_id_str)\n",
    "            users_friends.update({user_id_str: {}})\n",
    "            users_friends[user_id_str]['friends'] = list(filter(lambda x: x in users_df.index, user['friends']))\n",
    "            users_friends[user_id_str]['followers'] = list(filter(lambda x: x in users_df.index, user['followers']))\n",
    "            \n",
    "        \n",
    "with open('2021_08-2022_02-user_friends.json', 'w') as f:\n",
    "    json.dump(users_friends, f, indent=2)"
   ]
  },
  {
   "cell_type": "code",
   "execution_count": 104,
   "metadata": {},
   "outputs": [],
   "source": [
    "df.set_index('id').to_csv('2021_08-2022_02-tweets.csv', encoding='utf-8')\n",
    "users_df.to_csv('2021_08-2022_02-user_tweets.csv', encoding='utf-8')"
   ]
  },
  {
   "cell_type": "code",
   "execution_count": null,
   "metadata": {},
   "outputs": [],
   "source": []
  }
 ],
 "metadata": {
  "interpreter": {
   "hash": "fdc5621a04c517fe5a0552a93f936407568259320f8029a1b02261ce0b7b486f"
  },
  "kernelspec": {
   "display_name": "Python 3.8.3 64-bit ('base': conda)",
   "language": "python",
   "name": "python3"
  },
  "language_info": {
   "codemirror_mode": {
    "name": "ipython",
    "version": 3
   },
   "file_extension": ".py",
   "mimetype": "text/x-python",
   "name": "python",
   "nbconvert_exporter": "python",
   "pygments_lexer": "ipython3",
   "version": "3.8.3"
  },
  "orig_nbformat": 4
 },
 "nbformat": 4,
 "nbformat_minor": 2
}
