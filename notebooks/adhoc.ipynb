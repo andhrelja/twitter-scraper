{
 "cells": [
  {
   "cell_type": "code",
   "execution_count": 5,
   "metadata": {},
   "outputs": [],
   "source": [
    "from twitter_scraper import settings\n",
    "from twitter_scraper import utils\n",
    "from twitter_scraper.clean import TWEET_DTYPE\n",
    "\n",
    "import datetime as dt\n",
    "import pandas as pd\n",
    "\n",
    "START_DATE = dt.datetime.fromisoformat('2022-10-01T00:00:00+00:00')\n",
    "END_DATE = dt.datetime.fromisoformat('2022-10-31T23:59:59+00:00')\n",
    "\n",
    "tweets_dfs = utils.read_directory_files(settings.CLEAN_TWEETS_DIR, pd.read_csv, parse_dates=['created_at'], dtype=TWEET_DTYPE)\n",
    "tweets_df = pd.concat(tweets_dfs)\n",
    "tweets_df['user_id_str'] = tweets_df['user_id'].map(str)\n",
    "# tweets_view = pd.read_csv('preproc_tweets_view.csv', parse_dates=['created_at'])\n",
    "\n",
    "tweets_df = tweets_df[\n",
    "    (tweets_df.created_at >= START_DATE)\n",
    "    & (tweets_df.created_at <= END_DATE)\n",
    "]\n",
    "\n",
    "# tweets_view = tweets_view[\n",
    "#     (tweets_view.created_at >= START_DATE)\n",
    "#     & (tweets_view.created_at <= END_DATE)\n",
    "# ]"
   ]
  },
  {
   "cell_type": "code",
   "execution_count": null,
   "metadata": {},
   "outputs": [],
   "source": []
  },
  {
   "cell_type": "code",
   "execution_count": 6,
   "metadata": {},
   "outputs": [],
   "source": [
    "ukraine_df = tweets_df[\n",
    "    (tweets_df.apply(lambda row: any(\n",
    "        kwd in row.full_text.lower() \n",
    "        for kwd in settings.KEYWORDS['ukraine_war']['include']\n",
    "    ), axis=1))\n",
    "]\n",
    "# ukraine_df = ukraine_df[\n",
    "#     ~ukraine_df.apply(lambda row: any(\n",
    "#         kwd in row.full_text.lower() \n",
    "#         for kwd in kwds['exclude']\n",
    "#     ), axis=1)\n",
    "# ]"
   ]
  },
  {
   "cell_type": "code",
   "execution_count": 7,
   "metadata": {},
   "outputs": [],
   "source": [
    "ukraine_df[list(set(ukraine_df.columns).difference(['year','quarter','quarter_name','month','month_name','week','week_name','day','day_name','hour','minute','second']))\n",
    "].to_csv('adhoc_tweets_202210.csv', index=False, encoding='utf-8')\n"
   ]
  },
  {
   "cell_type": "code",
   "execution_count": 55,
   "metadata": {},
   "outputs": [],
   "source": [
    "ukraine10_user_ids = ukraine_df.user_id.unique()"
   ]
  },
  {
   "cell_type": "code",
   "execution_count": 49,
   "metadata": {},
   "outputs": [],
   "source": [
    "# ukraine11_user_ids = ukraine_df.user_id.unique()"
   ]
  },
  {
   "cell_type": "code",
   "execution_count": 57,
   "metadata": {},
   "outputs": [
    {
     "name": "stdout",
     "output_type": "stream",
     "text": [
      "10: 2257\n",
      "10: 2238\n",
      "unique: 3029\n"
     ]
    }
   ],
   "source": [
    "print('10:', len(ukraine10_user_ids))\n",
    "print('10:', len(ukraine11_user_ids))\n",
    "\n",
    "unique_users = set(list(ukraine10_user_ids) + list(ukraine11_user_ids))\n",
    "print('unique:', len(unique_users))"
   ]
  },
  {
   "cell_type": "code",
   "execution_count": 60,
   "metadata": {},
   "outputs": [],
   "source": [
    "from twitter_scraper.clean import USER_DTYPE\n",
    "users_dfs = utils.read_directory_files(settings.CLEAN_USERS_DIR, pd.read_csv, parse_dates=['created_at'], dtype=USER_DTYPE)\n",
    "users_df = pd.concat(users_dfs)"
   ]
  },
  {
   "cell_type": "code",
   "execution_count": 62,
   "metadata": {},
   "outputs": [],
   "source": [
    "users_df[users_df.user_id.isin(unique_users)].to_csv('adhoc_users.csv', index=False, encoding='utf-8')"
   ]
  }
 ],
 "metadata": {
  "kernelspec": {
   "display_name": "Python 3.8.10 ('twitter_scraper')",
   "language": "python",
   "name": "python3"
  },
  "language_info": {
   "codemirror_mode": {
    "name": "ipython",
    "version": 3
   },
   "file_extension": ".py",
   "mimetype": "text/x-python",
   "name": "python",
   "nbconvert_exporter": "python",
   "pygments_lexer": "ipython3",
   "version": "3.8.10"
  },
  "orig_nbformat": 4,
  "vscode": {
   "interpreter": {
    "hash": "967e65d78b012836ccc9230f84f154fbeb6a66551d2543767befd0989f69ed55"
   }
  }
 },
 "nbformat": 4,
 "nbformat_minor": 2
}
