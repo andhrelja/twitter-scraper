{
 "cells": [
  {
   "cell_type": "code",
   "execution_count": 1,
   "metadata": {},
   "outputs": [
    {
     "name": "stdout",
     "output_type": "stream",
     "text": [
      "[WARNING] 2022-11-06 07:31:15 discord.client - PyNaCl is not installed, voice will NOT be supported\n"
     ]
    }
   ],
   "source": [
    "import pandas as pd\n",
    "\n",
    "from twitter_scraper import settings\n",
    "from twitter_scraper.utils import fileio\n",
    "\n",
    "stop_words_eng = fileio.read_content(settings.STOP_WORDS_ENG, 'json')\n",
    "stop_words_hrv = fileio.read_content(settings.STOP_WORDS_HRV, 'json')\n",
    "stop_words = stop_words_eng + stop_words_hrv \n",
    "\n",
    "tweets_df = pd.read_csv(settings.TWEETS_CSV.replace('tweets.csv', 'tweets-text.csv'), low_memory=False)\n",
    "tweets_df['stemmed'] = tweets_df['stemmed'].map(eval)\n",
    "tweets_df['clean_stem'] = tweets_df['stemmed'].transform(lambda x: list(filter(lambda y: y is not None and y not in stop_words, x)))"
   ]
  },
  {
   "cell_type": "code",
   "execution_count": 2,
   "metadata": {},
   "outputs": [
    {
     "name": "stdout",
     "output_type": "stream",
     "text": [
      "<class 'pandas.core.frame.DataFrame'>\n",
      "RangeIndex: 3241556 entries, 0 to 3241555\n",
      "Data columns (total 24 columns):\n",
      " #   Column                    Dtype  \n",
      "---  ------                    -----  \n",
      " 0   id                        int64  \n",
      " 1   user_id                   int64  \n",
      " 2   user_id_str               int64  \n",
      " 3   full_text                 object \n",
      " 4   created_at                object \n",
      " 5   hashtags                  object \n",
      " 6   user_mentions             object \n",
      " 7   retweet_from_user_id      float64\n",
      " 8   retweet_from_user_id_str  object \n",
      " 9   retweet_from_tweet_id     float64\n",
      " 10  in_reply_to_status_id     float64\n",
      " 11  in_reply_to_user_id       float64\n",
      " 12  geo                       object \n",
      " 13  coordinates               object \n",
      " 14  retweet_count             int64  \n",
      " 15  favorite_count            int64  \n",
      " 16  lang                      object \n",
      " 17  langid                    object \n",
      " 18  week                      object \n",
      " 19  month                     object \n",
      " 20  is_covid                  bool   \n",
      " 21  full_text_transform       object \n",
      " 22  stemmed                   object \n",
      " 23  clean_stem                object \n",
      "dtypes: bool(1), float64(4), int64(5), object(14)\n",
      "memory usage: 571.9+ MB\n"
     ]
    }
   ],
   "source": [
    "tweets_df.info()"
   ]
  },
  {
   "cell_type": "code",
   "execution_count": 3,
   "metadata": {},
   "outputs": [],
   "source": [
    "gdf = tweets_df[['langid', 'clean_stem']][tweets_df['langid'].isin(('en', 'hr', 'bs', 'sr', 'sl'))].sample(100000).groupby('langid').sum()\n",
    "a = {key: list(set(val['clean_stem'])) for key, val in gdf.to_dict(orient='index').items()}"
   ]
  },
  {
   "cell_type": "code",
   "execution_count": 6,
   "metadata": {},
   "outputs": [],
   "source": [
    "a = {key: sorted(val) for key, val in a.items()}"
   ]
  },
  {
   "cell_type": "code",
   "execution_count": 7,
   "metadata": {},
   "outputs": [],
   "source": [
    "fileio.write_content(settings.INPUT_DIR + '/all_words.json', a, 'json')"
   ]
  },
  {
   "cell_type": "code",
   "execution_count": 8,
   "metadata": {},
   "outputs": [],
   "source": [
    "import csv\n",
    "tweets_df.to_csv(settings.TWEETS_CSV.replace('tweets.csv', 'tweets-text-processed.csv'), encoding='utf-8', index=False, quoting=csv.QUOTE_ALL)"
   ]
  },
  {
   "cell_type": "code",
   "execution_count": null,
   "metadata": {},
   "outputs": [],
   "source": []
  }
 ],
 "metadata": {
  "kernelspec": {
   "display_name": "Python 3.8.10 ('twitter_scraper')",
   "language": "python",
   "name": "python3"
  },
  "language_info": {
   "codemirror_mode": {
    "name": "ipython",
    "version": 3
   },
   "file_extension": ".py",
   "mimetype": "text/x-python",
   "name": "python",
   "nbconvert_exporter": "python",
   "pygments_lexer": "ipython3",
   "version": "3.8.10"
  },
  "orig_nbformat": 4,
  "vscode": {
   "interpreter": {
    "hash": "967e65d78b012836ccc9230f84f154fbeb6a66551d2543767befd0989f69ed55"
   }
  }
 },
 "nbformat": 4,
 "nbformat_minor": 2
}
