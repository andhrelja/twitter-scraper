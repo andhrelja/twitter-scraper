{
 "cells": [
  {
   "cell_type": "code",
   "execution_count": 1,
   "metadata": {},
   "outputs": [],
   "source": [
    "import os\n",
    "os.chdir('../src/')\n",
    "from twitter_scraper import settings"
   ]
  },
  {
   "cell_type": "code",
   "execution_count": 11,
   "metadata": {},
   "outputs": [],
   "source": [
    "import pandas as pd\n",
    "import matplotlib.pyplot as plt\n",
    "\n",
    "users_df = pd.read_csv(settings.USERS_CSV)\n",
    "nodes_df = pd.read_csv(settings.NODES_CSV)\n",
    "tweets_df = pd.read_csv(settings.TWEETS_CSV, low_memory=False)\n",
    "edges_df = pd.read_csv(settings.EDGES_FOLLOWERS_CSV)"
   ]
  },
  {
   "cell_type": "code",
   "execution_count": 3,
   "metadata": {},
   "outputs": [
    {
     "name": "stdout",
     "output_type": "stream",
     "text": [
      "<class 'pandas.core.frame.DataFrame'>\n",
      "RangeIndex: 27976 entries, 0 to 27975\n",
      "Data columns (total 16 columns):\n",
      " #   Column            Non-Null Count  Dtype \n",
      "---  ------            --------------  ----- \n",
      " 0   user_id           27976 non-null  int64 \n",
      " 1   user_id_str       27976 non-null  int64 \n",
      " 2   name              27972 non-null  object\n",
      " 3   screen_name       27976 non-null  object\n",
      " 4   location          27976 non-null  object\n",
      " 5   description       21870 non-null  object\n",
      " 6   protected         27976 non-null  bool  \n",
      " 7   verified          27976 non-null  bool  \n",
      " 8   followers_count   27976 non-null  int64 \n",
      " 9   friends_count     27976 non-null  int64 \n",
      " 10  listed_count      27976 non-null  int64 \n",
      " 11  favourites_count  27976 non-null  int64 \n",
      " 12  statuses_count    27976 non-null  int64 \n",
      " 13  created_at        27976 non-null  object\n",
      " 14  is_croatian       27976 non-null  bool  \n",
      " 15  clean_location    27976 non-null  object\n",
      "dtypes: bool(3), int64(7), object(6)\n",
      "memory usage: 2.9+ MB\n"
     ]
    }
   ],
   "source": [
    "users_df.info()"
   ]
  },
  {
   "cell_type": "code",
   "execution_count": 4,
   "metadata": {},
   "outputs": [
    {
     "name": "stdout",
     "output_type": "stream",
     "text": [
      "<class 'pandas.core.frame.DataFrame'>\n",
      "RangeIndex: 1703626 entries, 0 to 1703625\n",
      "Data columns (total 17 columns):\n",
      " #   Column                     Dtype  \n",
      "---  ------                     -----  \n",
      " 0   id                         int64  \n",
      " 1   user_id                    int64  \n",
      " 2   full_text                  object \n",
      " 3   created_at                 object \n",
      " 4   hashtags                   object \n",
      " 5   user_mentions              object \n",
      " 6   retweet_user               float64\n",
      " 7   in_reply_to_status_id_str  float64\n",
      " 8   in_reply_to_user_id_str    float64\n",
      " 9   in_reply_to_screen_name    object \n",
      " 10  geo                        object \n",
      " 11  coordinates                object \n",
      " 12  retweet_count              int64  \n",
      " 13  favorite_count             int64  \n",
      " 14  week                       object \n",
      " 15  month                      object \n",
      " 16  is_covid                   bool   \n",
      "dtypes: bool(1), float64(3), int64(4), object(9)\n",
      "memory usage: 209.6+ MB\n"
     ]
    }
   ],
   "source": [
    "tweets_df.info()"
   ]
  },
  {
   "cell_type": "code",
   "execution_count": 6,
   "metadata": {},
   "outputs": [
    {
     "name": "stdout",
     "output_type": "stream",
     "text": [
      "<class 'pandas.core.frame.DataFrame'>\n",
      "RangeIndex: 8808 entries, 0 to 8807\n",
      "Data columns (total 11 columns):\n",
      " #   Column            Non-Null Count  Dtype  \n",
      "---  ------            --------------  -----  \n",
      " 0   user_id           8808 non-null   int64  \n",
      " 1   user_id_str       8808 non-null   int64  \n",
      " 2   followers_count   8808 non-null   int64  \n",
      " 3   friends_count     8808 non-null   int64  \n",
      " 4   listed_count      8808 non-null   int64  \n",
      " 5   favourites_count  8808 non-null   int64  \n",
      " 6   statuses_count    8808 non-null   int64  \n",
      " 7   total_tweets      8808 non-null   int64  \n",
      " 8   covid_tweets      8808 non-null   int64  \n",
      " 9   covid_pct         8808 non-null   float64\n",
      " 10  is_covid          8808 non-null   bool   \n",
      "dtypes: bool(1), float64(1), int64(9)\n",
      "memory usage: 696.9 KB\n"
     ]
    }
   ],
   "source": [
    "nodes_df.info()"
   ]
  },
  {
   "cell_type": "code",
   "execution_count": 7,
   "metadata": {},
   "outputs": [
    {
     "data": {
      "text/plain": [
       "is_covid\n",
       "False    5138\n",
       "True     3670\n",
       "dtype: int64"
      ]
     },
     "execution_count": 7,
     "metadata": {},
     "output_type": "execute_result"
    }
   ],
   "source": [
    "nodes_df.groupby('is_covid').size()"
   ]
  },
  {
   "cell_type": "code",
   "execution_count": 8,
   "metadata": {},
   "outputs": [
    {
     "data": {
      "text/plain": [
       "is_covid\n",
       "False    1633232\n",
       "True       70394\n",
       "dtype: int64"
      ]
     },
     "execution_count": 8,
     "metadata": {},
     "output_type": "execute_result"
    }
   ],
   "source": [
    "tweets_df.groupby('is_covid').size()"
   ]
  },
  {
   "cell_type": "code",
   "execution_count": 12,
   "metadata": {},
   "outputs": [
    {
     "data": {
      "text/plain": [
       "319845"
      ]
     },
     "execution_count": 12,
     "metadata": {},
     "output_type": "execute_result"
    }
   ],
   "source": [
    "len(edges_df)"
   ]
  },
  {
   "cell_type": "code",
   "execution_count": 45,
   "metadata": {},
   "outputs": [
    {
     "name": "stderr",
     "output_type": "stream",
     "text": [
      "The PostScript backend does not support transparency; partially transparent artists will be rendered opaque.\n"
     ]
    },
    {
     "data": {
      "image/png": "[encoded data removed]",
      "text/plain": [
       "<Figure size 1152x360 with 2 Axes>"
      ]
     },
     "metadata": {},
     "output_type": "display_data"
    }
   ],
   "source": [
    "fig, ax = plt.subplots(ncols=2, figsize=(16, 5))\n",
    "fig.set_facecolor('white')\n",
    "\n",
    "tweets_df.groupby(['is_covid', 'week']).size().unstack('is_covid') \\\n",
    "    .plot.bar(\n",
    "        title=\"Number of all Tweets by week\", \n",
    "        rot=45,\n",
    "        ax=ax[0],\n",
    "        color=['#ffffff', '#f8cecc'],\n",
    "        edgecolor='black',\n",
    "        logy=True\n",
    "    )\n",
    "ax[0].legend(['Regular', 'C19'])\n",
    "ax[0].set_xlabel(None)\n",
    "for i, t in enumerate(ax[0].get_xticklabels()):\n",
    "    if (i % 3) != 0:\n",
    "        t.set_visible(False)\n",
    "\n",
    "\n",
    "tweets_df.groupby(['is_covid', 'month']).size().unstack('is_covid') \\\n",
    "    .plot.bar(\n",
    "        title=\"Log number of all Tweets by month\", \n",
    "        rot=0,\n",
    "        ax=ax[1],\n",
    "        color=['#ffffff', '#f8cecc'],\n",
    "        edgecolor='black',\n",
    "        logy=True\n",
    "    )\n",
    "ax[1].legend(['Regular', 'C19'])\n",
    "ax[1].set_xlabel(None)\n",
    "\n",
    "fig.savefig('tweets-by-month.eps', format='eps', dpi=320)\n",
    "fig.savefig('tweets-by-month.png')\n",
    "\n",
    "plt.show()\n"
   ]
  },
  {
   "cell_type": "code",
   "execution_count": 46,
   "metadata": {},
   "outputs": [
    {
     "ename": "KeyError",
     "evalue": "'week'",
     "output_type": "error",
     "traceback": [
      "\u001b[0;31m---------------------------------------------------------------------------\u001b[0m",
      "\u001b[0;31mKeyError\u001b[0m                                  Traceback (most recent call last)",
      "\u001b[1;32m/home/milky/infocov/twitter_scraper/notebooks/CleanAnalysis.ipynb Cell 10'\u001b[0m in \u001b[0;36m<module>\u001b[0;34m\u001b[0m\n\u001b[1;32m      <a href='vscode-notebook-cell://ssh-remote%2B7b22686f73744e616d65223a22696e666f636f762d636f6d707574652e756e6972692e6872222c2275736572223a226d696c6b79227d/home/milky/infocov/twitter_scraper/notebooks/CleanAnalysis.ipynb#ch0000011vscode-remote?line=0'>1</a>\u001b[0m fig, ax \u001b[39m=\u001b[39m plt\u001b[39m.\u001b[39msubplots(ncols\u001b[39m=\u001b[39m\u001b[39m2\u001b[39m, figsize\u001b[39m=\u001b[39m(\u001b[39m16\u001b[39m, \u001b[39m5\u001b[39m))\n\u001b[1;32m      <a href='vscode-notebook-cell://ssh-remote%2B7b22686f73744e616d65223a22696e666f636f762d636f6d707574652e756e6972692e6872222c2275736572223a226d696c6b79227d/home/milky/infocov/twitter_scraper/notebooks/CleanAnalysis.ipynb#ch0000011vscode-remote?line=1'>2</a>\u001b[0m fig\u001b[39m.\u001b[39mset_facecolor(\u001b[39m'\u001b[39m\u001b[39mwhite\u001b[39m\u001b[39m'\u001b[39m)\n\u001b[0;32m----> <a href='vscode-notebook-cell://ssh-remote%2B7b22686f73744e616d65223a22696e666f636f762d636f6d707574652e756e6972692e6872222c2275736572223a226d696c6b79227d/home/milky/infocov/twitter_scraper/notebooks/CleanAnalysis.ipynb#ch0000011vscode-remote?line=3'>4</a>\u001b[0m gdf \u001b[39m=\u001b[39m nodes_df\u001b[39m.\u001b[39;49mgroupby([\u001b[39m'\u001b[39;49m\u001b[39mis_covid\u001b[39;49m\u001b[39m'\u001b[39;49m, \u001b[39m'\u001b[39;49m\u001b[39mweek\u001b[39;49m\u001b[39m'\u001b[39;49m])[\u001b[39m'\u001b[39m\u001b[39mis_covid\u001b[39m\u001b[39m'\u001b[39m]\u001b[39m.\u001b[39mcount()\u001b[39m.\u001b[39munstack(\u001b[39m'\u001b[39m\u001b[39mweek\u001b[39m\u001b[39m'\u001b[39m)\n\u001b[1;32m      <a href='vscode-notebook-cell://ssh-remote%2B7b22686f73744e616d65223a22696e666f636f762d636f6d707574652e756e6972692e6872222c2275736572223a226d696c6b79227d/home/milky/infocov/twitter_scraper/notebooks/CleanAnalysis.ipynb#ch0000011vscode-remote?line=4'>5</a>\u001b[0m gdf[[\u001b[39m'\u001b[39m\u001b[39mis_covid\u001b[39m\u001b[39m'\u001b[39m]]\u001b[39m.\u001b[39mplot(kind\u001b[39m=\u001b[39m\u001b[39m'\u001b[39m\u001b[39mbar\u001b[39m\u001b[39m'\u001b[39m, stacked\u001b[39m=\u001b[39m\u001b[39mTrue\u001b[39;00m)\n\u001b[1;32m      <a href='vscode-notebook-cell://ssh-remote%2B7b22686f73744e616d65223a22696e666f636f762d636f6d707574652e756e6972692e6872222c2275736572223a226d696c6b79227d/home/milky/infocov/twitter_scraper/notebooks/CleanAnalysis.ipynb#ch0000011vscode-remote?line=6'>7</a>\u001b[0m plt1_df \u001b[39m=\u001b[39m tweets_df[tweets_df[\u001b[39m'\u001b[39m\u001b[39mis_covid\u001b[39m\u001b[39m'\u001b[39m] \u001b[39m==\u001b[39m \u001b[39mFalse\u001b[39;00m]\u001b[39m.\u001b[39mgroupby([\u001b[39m'\u001b[39m\u001b[39mis_covid\u001b[39m\u001b[39m'\u001b[39m, \u001b[39m'\u001b[39m\u001b[39mweek\u001b[39m\u001b[39m'\u001b[39m])\u001b[39m.\u001b[39msize()\u001b[39m.\u001b[39mreset_index(name\u001b[39m=\u001b[39m\u001b[39m'\u001b[39m\u001b[39msize\u001b[39m\u001b[39m'\u001b[39m)\n",
      "File \u001b[0;32m~/Envs/twitter_scraper/lib/python3.8/site-packages/pandas/core/frame.py:7706\u001b[0m, in \u001b[0;36mDataFrame.groupby\u001b[0;34m(self, by, axis, level, as_index, sort, group_keys, squeeze, observed, dropna)\u001b[0m\n\u001b[1;32m   <a href='file:///~/Envs/twitter_scraper/lib/python3.8/site-packages/pandas/core/frame.py?line=7700'>7701</a>\u001b[0m axis \u001b[39m=\u001b[39m \u001b[39mself\u001b[39m\u001b[39m.\u001b[39m_get_axis_number(axis)\n\u001b[1;32m   <a href='file:///~/Envs/twitter_scraper/lib/python3.8/site-packages/pandas/core/frame.py?line=7702'>7703</a>\u001b[0m \u001b[39m# https://github.com/python/mypy/issues/7642\u001b[39;00m\n\u001b[1;32m   <a href='file:///~/Envs/twitter_scraper/lib/python3.8/site-packages/pandas/core/frame.py?line=7703'>7704</a>\u001b[0m \u001b[39m# error: Argument \"squeeze\" to \"DataFrameGroupBy\" has incompatible type\u001b[39;00m\n\u001b[1;32m   <a href='file:///~/Envs/twitter_scraper/lib/python3.8/site-packages/pandas/core/frame.py?line=7704'>7705</a>\u001b[0m \u001b[39m# \"Union[bool, NoDefault]\"; expected \"bool\"\u001b[39;00m\n\u001b[0;32m-> <a href='file:///~/Envs/twitter_scraper/lib/python3.8/site-packages/pandas/core/frame.py?line=7705'>7706</a>\u001b[0m \u001b[39mreturn\u001b[39;00m DataFrameGroupBy(\n\u001b[1;32m   <a href='file:///~/Envs/twitter_scraper/lib/python3.8/site-packages/pandas/core/frame.py?line=7706'>7707</a>\u001b[0m     obj\u001b[39m=\u001b[39;49m\u001b[39mself\u001b[39;49m,\n\u001b[1;32m   <a href='file:///~/Envs/twitter_scraper/lib/python3.8/site-packages/pandas/core/frame.py?line=7707'>7708</a>\u001b[0m     keys\u001b[39m=\u001b[39;49mby,\n\u001b[1;32m   <a href='file:///~/Envs/twitter_scraper/lib/python3.8/site-packages/pandas/core/frame.py?line=7708'>7709</a>\u001b[0m     axis\u001b[39m=\u001b[39;49maxis,\n\u001b[1;32m   <a href='file:///~/Envs/twitter_scraper/lib/python3.8/site-packages/pandas/core/frame.py?line=7709'>7710</a>\u001b[0m     level\u001b[39m=\u001b[39;49mlevel,\n\u001b[1;32m   <a href='file:///~/Envs/twitter_scraper/lib/python3.8/site-packages/pandas/core/frame.py?line=7710'>7711</a>\u001b[0m     as_index\u001b[39m=\u001b[39;49mas_index,\n\u001b[1;32m   <a href='file:///~/Envs/twitter_scraper/lib/python3.8/site-packages/pandas/core/frame.py?line=7711'>7712</a>\u001b[0m     sort\u001b[39m=\u001b[39;49msort,\n\u001b[1;32m   <a href='file:///~/Envs/twitter_scraper/lib/python3.8/site-packages/pandas/core/frame.py?line=7712'>7713</a>\u001b[0m     group_keys\u001b[39m=\u001b[39;49mgroup_keys,\n\u001b[1;32m   <a href='file:///~/Envs/twitter_scraper/lib/python3.8/site-packages/pandas/core/frame.py?line=7713'>7714</a>\u001b[0m     squeeze\u001b[39m=\u001b[39;49msqueeze,  \u001b[39m# type: ignore[arg-type]\u001b[39;49;00m\n\u001b[1;32m   <a href='file:///~/Envs/twitter_scraper/lib/python3.8/site-packages/pandas/core/frame.py?line=7714'>7715</a>\u001b[0m     observed\u001b[39m=\u001b[39;49mobserved,\n\u001b[1;32m   <a href='file:///~/Envs/twitter_scraper/lib/python3.8/site-packages/pandas/core/frame.py?line=7715'>7716</a>\u001b[0m     dropna\u001b[39m=\u001b[39;49mdropna,\n\u001b[1;32m   <a href='file:///~/Envs/twitter_scraper/lib/python3.8/site-packages/pandas/core/frame.py?line=7716'>7717</a>\u001b[0m )\n",
      "File \u001b[0;32m~/Envs/twitter_scraper/lib/python3.8/site-packages/pandas/core/groupby/groupby.py:882\u001b[0m, in \u001b[0;36mGroupBy.__init__\u001b[0;34m(self, obj, keys, axis, level, grouper, exclusions, selection, as_index, sort, group_keys, squeeze, observed, mutated, dropna)\u001b[0m\n\u001b[1;32m    <a href='file:///~/Envs/twitter_scraper/lib/python3.8/site-packages/pandas/core/groupby/groupby.py?line=878'>879</a>\u001b[0m \u001b[39mif\u001b[39;00m grouper \u001b[39mis\u001b[39;00m \u001b[39mNone\u001b[39;00m:\n\u001b[1;32m    <a href='file:///~/Envs/twitter_scraper/lib/python3.8/site-packages/pandas/core/groupby/groupby.py?line=879'>880</a>\u001b[0m     \u001b[39mfrom\u001b[39;00m \u001b[39mpandas\u001b[39;00m\u001b[39m.\u001b[39;00m\u001b[39mcore\u001b[39;00m\u001b[39m.\u001b[39;00m\u001b[39mgroupby\u001b[39;00m\u001b[39m.\u001b[39;00m\u001b[39mgrouper\u001b[39;00m \u001b[39mimport\u001b[39;00m get_grouper\n\u001b[0;32m--> <a href='file:///~/Envs/twitter_scraper/lib/python3.8/site-packages/pandas/core/groupby/groupby.py?line=881'>882</a>\u001b[0m     grouper, exclusions, obj \u001b[39m=\u001b[39m get_grouper(\n\u001b[1;32m    <a href='file:///~/Envs/twitter_scraper/lib/python3.8/site-packages/pandas/core/groupby/groupby.py?line=882'>883</a>\u001b[0m         obj,\n\u001b[1;32m    <a href='file:///~/Envs/twitter_scraper/lib/python3.8/site-packages/pandas/core/groupby/groupby.py?line=883'>884</a>\u001b[0m         keys,\n\u001b[1;32m    <a href='file:///~/Envs/twitter_scraper/lib/python3.8/site-packages/pandas/core/groupby/groupby.py?line=884'>885</a>\u001b[0m         axis\u001b[39m=\u001b[39;49maxis,\n\u001b[1;32m    <a href='file:///~/Envs/twitter_scraper/lib/python3.8/site-packages/pandas/core/groupby/groupby.py?line=885'>886</a>\u001b[0m         level\u001b[39m=\u001b[39;49mlevel,\n\u001b[1;32m    <a href='file:///~/Envs/twitter_scraper/lib/python3.8/site-packages/pandas/core/groupby/groupby.py?line=886'>887</a>\u001b[0m         sort\u001b[39m=\u001b[39;49msort,\n\u001b[1;32m    <a href='file:///~/Envs/twitter_scraper/lib/python3.8/site-packages/pandas/core/groupby/groupby.py?line=887'>888</a>\u001b[0m         observed\u001b[39m=\u001b[39;49mobserved,\n\u001b[1;32m    <a href='file:///~/Envs/twitter_scraper/lib/python3.8/site-packages/pandas/core/groupby/groupby.py?line=888'>889</a>\u001b[0m         mutated\u001b[39m=\u001b[39;49m\u001b[39mself\u001b[39;49m\u001b[39m.\u001b[39;49mmutated,\n\u001b[1;32m    <a href='file:///~/Envs/twitter_scraper/lib/python3.8/site-packages/pandas/core/groupby/groupby.py?line=889'>890</a>\u001b[0m         dropna\u001b[39m=\u001b[39;49m\u001b[39mself\u001b[39;49m\u001b[39m.\u001b[39;49mdropna,\n\u001b[1;32m    <a href='file:///~/Envs/twitter_scraper/lib/python3.8/site-packages/pandas/core/groupby/groupby.py?line=890'>891</a>\u001b[0m     )\n\u001b[1;32m    <a href='file:///~/Envs/twitter_scraper/lib/python3.8/site-packages/pandas/core/groupby/groupby.py?line=892'>893</a>\u001b[0m \u001b[39mself\u001b[39m\u001b[39m.\u001b[39mobj \u001b[39m=\u001b[39m obj\n\u001b[1;32m    <a href='file:///~/Envs/twitter_scraper/lib/python3.8/site-packages/pandas/core/groupby/groupby.py?line=893'>894</a>\u001b[0m \u001b[39mself\u001b[39m\u001b[39m.\u001b[39maxis \u001b[39m=\u001b[39m obj\u001b[39m.\u001b[39m_get_axis_number(axis)\n",
      "File \u001b[0;32m~/Envs/twitter_scraper/lib/python3.8/site-packages/pandas/core/groupby/grouper.py:882\u001b[0m, in \u001b[0;36mget_grouper\u001b[0;34m(obj, key, axis, level, sort, observed, mutated, validate, dropna)\u001b[0m\n\u001b[1;32m    <a href='file:///~/Envs/twitter_scraper/lib/python3.8/site-packages/pandas/core/groupby/grouper.py?line=879'>880</a>\u001b[0m         in_axis, level, gpr \u001b[39m=\u001b[39m \u001b[39mFalse\u001b[39;00m, gpr, \u001b[39mNone\u001b[39;00m\n\u001b[1;32m    <a href='file:///~/Envs/twitter_scraper/lib/python3.8/site-packages/pandas/core/groupby/grouper.py?line=880'>881</a>\u001b[0m     \u001b[39melse\u001b[39;00m:\n\u001b[0;32m--> <a href='file:///~/Envs/twitter_scraper/lib/python3.8/site-packages/pandas/core/groupby/grouper.py?line=881'>882</a>\u001b[0m         \u001b[39mraise\u001b[39;00m \u001b[39mKeyError\u001b[39;00m(gpr)\n\u001b[1;32m    <a href='file:///~/Envs/twitter_scraper/lib/python3.8/site-packages/pandas/core/groupby/grouper.py?line=882'>883</a>\u001b[0m \u001b[39melif\u001b[39;00m \u001b[39misinstance\u001b[39m(gpr, Grouper) \u001b[39mand\u001b[39;00m gpr\u001b[39m.\u001b[39mkey \u001b[39mis\u001b[39;00m \u001b[39mnot\u001b[39;00m \u001b[39mNone\u001b[39;00m:\n\u001b[1;32m    <a href='file:///~/Envs/twitter_scraper/lib/python3.8/site-packages/pandas/core/groupby/grouper.py?line=883'>884</a>\u001b[0m     \u001b[39m# Add key to exclusions\u001b[39;00m\n\u001b[1;32m    <a href='file:///~/Envs/twitter_scraper/lib/python3.8/site-packages/pandas/core/groupby/grouper.py?line=884'>885</a>\u001b[0m     exclusions\u001b[39m.\u001b[39madd(gpr\u001b[39m.\u001b[39mkey)\n",
      "\u001b[0;31mKeyError\u001b[0m: 'week'"
     ]
    },
    {
     "data": {
      "image/png": "[encoded data removed]",
      "text/plain": [
       "<Figure size 1152x360 with 2 Axes>"
      ]
     },
     "metadata": {},
     "output_type": "display_data"
    }
   ],
   "source": [
    "\n",
    "\n",
    "fig, ax = plt.subplots(ncols=2, figsize=(16, 5))\n",
    "fig.set_facecolor('white')\n",
    "\n",
    "gdf = nodes_df.groupby(['is_covid', 'week']).size().unstack('week')\n",
    "gdf[['is_covid']].plot(kind='bar', stacked=True)\n",
    "\n",
    "plt1_df = tweets_df[tweets_df['is_covid'] == False].groupby(['is_covid', 'week']).size().reset_index(name='size')\n",
    "ax[0].bar(tweets_df.index, plt1_df['size'], label='Non-Covid', log=True,\n",
    "    title=\"Number of all Tweets by week\", \n",
    "    rot=45,\n",
    "    color=['#ffffff', '#f8cecc'],\n",
    "    edgecolor='black'\n",
    ")\n",
    "\n",
    "ax[0].legend(['Regular', 'C19'])\n",
    "\n",
    "ax[0].set_xlabel(None)\n",
    "for i, t in enumerate(ax[0].get_xticklabels()):\n",
    "    if (i % 3) != 0:\n",
    "        t.set_visible(False)\n",
    "\n",
    "\n",
    "tweets_df.groupby(['is_covid', 'month']).size().unstack('is_covid') \\\n",
    "    .plot.bar(\n",
    "        title=\"Log number of all Tweets by month\", \n",
    "        rot=0,\n",
    "        ax=ax[1],\n",
    "        color=['#ffffff', '#f8cecc'],\n",
    "        edgecolor='black',\n",
    "        logy=True\n",
    "    )\n",
    "ax[1].legend(['Regular', 'C19'])\n",
    "ax[1].set_xlabel(None)\n",
    "\n",
    "fig.savefig('tweets-by-month.eps', format='eps', dpi=320)\n",
    "fig.savefig('tweets-by-month.png')\n",
    "\n",
    "plt.show()\n",
    "\n"
   ]
  },
  {
   "cell_type": "code",
   "execution_count": 69,
   "metadata": {},
   "outputs": [
    {
     "name": "stderr",
     "output_type": "stream",
     "text": [
      "The PostScript backend does not support transparency; partially transparent artists will be rendered opaque.\n"
     ]
    },
    {
     "data": {
      "image/png": "[encoded data removed]",
      "text/plain": [
       "<Figure size 576x360 with 1 Axes>"
      ]
     },
     "metadata": {},
     "output_type": "display_data"
    }
   ],
   "source": [
    "fig, ax = plt.subplots(1, figsize=(8, 5))\n",
    "fig.set_facecolor('white')\n",
    "\n",
    "tweets_df.groupby(['is_covid', 'month']).size().unstack('is_covid') \\\n",
    "    .plot.bar(\n",
    "        rot=0,\n",
    "        ax=ax,\n",
    "        color=['#ffffff', '#f8cecc'],\n",
    "        edgecolor='black',\n",
    "        logy=True\n",
    "    )\n",
    "ax.legend(['nonCOVID', 'COVID'])\n",
    "ax.set_xlabel(None)\n",
    "\n",
    "fig.savefig('tweets-by-month.eps', dpi=320)\n",
    "fig.savefig('tweets-by-month.png', dpi=320)\n",
    "\n",
    "plt.show()"
   ]
  },
  {
   "cell_type": "code",
   "execution_count": 63,
   "metadata": {},
   "outputs": [
    {
     "data": {
      "text/html": [
       "<div>\n",
       "<style scoped>\n",
       "    .dataframe tbody tr th:only-of-type {\n",
       "        vertical-align: middle;\n",
       "    }\n",
       "\n",
       "    .dataframe tbody tr th {\n",
       "        vertical-align: top;\n",
       "    }\n",
       "\n",
       "    .dataframe thead th {\n",
       "        text-align: right;\n",
       "    }\n",
       "</style>\n",
       "<table border=\"1\" class=\"dataframe\">\n",
       "  <thead>\n",
       "    <tr style=\"text-align: right;\">\n",
       "      <th>is_covid</th>\n",
       "      <th>False</th>\n",
       "      <th>True</th>\n",
       "    </tr>\n",
       "    <tr>\n",
       "      <th>week</th>\n",
       "      <th></th>\n",
       "      <th></th>\n",
       "    </tr>\n",
       "  </thead>\n",
       "  <tbody>\n",
       "    <tr>\n",
       "      <th>2021-30</th>\n",
       "      <td>6273</td>\n",
       "      <td>183</td>\n",
       "    </tr>\n",
       "    <tr>\n",
       "      <th>2021-31</th>\n",
       "      <td>45795</td>\n",
       "      <td>1277</td>\n",
       "    </tr>\n",
       "    <tr>\n",
       "      <th>2021-32</th>\n",
       "      <td>47922</td>\n",
       "      <td>1462</td>\n",
       "    </tr>\n",
       "    <tr>\n",
       "      <th>2021-33</th>\n",
       "      <td>49822</td>\n",
       "      <td>1587</td>\n",
       "    </tr>\n",
       "    <tr>\n",
       "      <th>2021-34</th>\n",
       "      <td>51639</td>\n",
       "      <td>1715</td>\n",
       "    </tr>\n",
       "    <tr>\n",
       "      <th>2021-35</th>\n",
       "      <td>52307</td>\n",
       "      <td>1817</td>\n",
       "    </tr>\n",
       "    <tr>\n",
       "      <th>2021-36</th>\n",
       "      <td>53768</td>\n",
       "      <td>1819</td>\n",
       "    </tr>\n",
       "    <tr>\n",
       "      <th>2021-37</th>\n",
       "      <td>52778</td>\n",
       "      <td>2204</td>\n",
       "    </tr>\n",
       "    <tr>\n",
       "      <th>2021-38</th>\n",
       "      <td>50207</td>\n",
       "      <td>1733</td>\n",
       "    </tr>\n",
       "    <tr>\n",
       "      <th>2021-39</th>\n",
       "      <td>52442</td>\n",
       "      <td>1673</td>\n",
       "    </tr>\n",
       "    <tr>\n",
       "      <th>2021-40</th>\n",
       "      <td>58458</td>\n",
       "      <td>2229</td>\n",
       "    </tr>\n",
       "    <tr>\n",
       "      <th>2021-41</th>\n",
       "      <td>55040</td>\n",
       "      <td>1787</td>\n",
       "    </tr>\n",
       "    <tr>\n",
       "      <th>2021-42</th>\n",
       "      <td>54196</td>\n",
       "      <td>2050</td>\n",
       "    </tr>\n",
       "    <tr>\n",
       "      <th>2021-43</th>\n",
       "      <td>57097</td>\n",
       "      <td>2528</td>\n",
       "    </tr>\n",
       "    <tr>\n",
       "      <th>2021-44</th>\n",
       "      <td>63446</td>\n",
       "      <td>4219</td>\n",
       "    </tr>\n",
       "    <tr>\n",
       "      <th>2021-45</th>\n",
       "      <td>68025</td>\n",
       "      <td>4330</td>\n",
       "    </tr>\n",
       "    <tr>\n",
       "      <th>2021-46</th>\n",
       "      <td>68352</td>\n",
       "      <td>5237</td>\n",
       "    </tr>\n",
       "    <tr>\n",
       "      <th>2021-47</th>\n",
       "      <td>73022</td>\n",
       "      <td>4069</td>\n",
       "    </tr>\n",
       "    <tr>\n",
       "      <th>2021-48</th>\n",
       "      <td>72589</td>\n",
       "      <td>3088</td>\n",
       "    </tr>\n",
       "    <tr>\n",
       "      <th>2021-49</th>\n",
       "      <td>69923</td>\n",
       "      <td>2544</td>\n",
       "    </tr>\n",
       "    <tr>\n",
       "      <th>2021-50</th>\n",
       "      <td>65559</td>\n",
       "      <td>3204</td>\n",
       "    </tr>\n",
       "    <tr>\n",
       "      <th>2021-51</th>\n",
       "      <td>64416</td>\n",
       "      <td>2493</td>\n",
       "    </tr>\n",
       "    <tr>\n",
       "      <th>2021-52</th>\n",
       "      <td>48678</td>\n",
       "      <td>2082</td>\n",
       "    </tr>\n",
       "    <tr>\n",
       "      <th>2022-00</th>\n",
       "      <td>18637</td>\n",
       "      <td>558</td>\n",
       "    </tr>\n",
       "    <tr>\n",
       "      <th>2022-01</th>\n",
       "      <td>72085</td>\n",
       "      <td>3843</td>\n",
       "    </tr>\n",
       "    <tr>\n",
       "      <th>2022-02</th>\n",
       "      <td>80020</td>\n",
       "      <td>3677</td>\n",
       "    </tr>\n",
       "    <tr>\n",
       "      <th>2022-03</th>\n",
       "      <td>86048</td>\n",
       "      <td>3408</td>\n",
       "    </tr>\n",
       "    <tr>\n",
       "      <th>2022-04</th>\n",
       "      <td>94688</td>\n",
       "      <td>3578</td>\n",
       "    </tr>\n",
       "  </tbody>\n",
       "</table>\n",
       "</div>"
      ],
      "text/plain": [
       "is_covid  False  True\n",
       "week                 \n",
       "2021-30    6273   183\n",
       "2021-31   45795  1277\n",
       "2021-32   47922  1462\n",
       "2021-33   49822  1587\n",
       "2021-34   51639  1715\n",
       "2021-35   52307  1817\n",
       "2021-36   53768  1819\n",
       "2021-37   52778  2204\n",
       "2021-38   50207  1733\n",
       "2021-39   52442  1673\n",
       "2021-40   58458  2229\n",
       "2021-41   55040  1787\n",
       "2021-42   54196  2050\n",
       "2021-43   57097  2528\n",
       "2021-44   63446  4219\n",
       "2021-45   68025  4330\n",
       "2021-46   68352  5237\n",
       "2021-47   73022  4069\n",
       "2021-48   72589  3088\n",
       "2021-49   69923  2544\n",
       "2021-50   65559  3204\n",
       "2021-51   64416  2493\n",
       "2021-52   48678  2082\n",
       "2022-00   18637   558\n",
       "2022-01   72085  3843\n",
       "2022-02   80020  3677\n",
       "2022-03   86048  3408\n",
       "2022-04   94688  3578"
      ]
     },
     "execution_count": 63,
     "metadata": {},
     "output_type": "execute_result"
    }
   ],
   "source": [
    "tweets_df.groupby(['week', 'is_covid']).size().unstack('is_covid')"
   ]
  },
  {
   "cell_type": "code",
   "execution_count": null,
   "metadata": {},
   "outputs": [],
   "source": []
  }
 ],
 "metadata": {
  "interpreter": {
   "hash": "967e65d78b012836ccc9230f84f154fbeb6a66551d2543767befd0989f69ed55"
  },
  "kernelspec": {
   "display_name": "Python 3.8.10 ('twitter_scraper')",
   "language": "python",
   "name": "python3"
  },
  "language_info": {
   "codemirror_mode": {
    "name": "ipython",
    "version": 3
   },
   "file_extension": ".py",
   "mimetype": "text/x-python",
   "name": "python",
   "nbconvert_exporter": "python",
   "pygments_lexer": "ipython3",
   "version": "3.8.10"
  },
  "orig_nbformat": 4
 },
 "nbformat": 4,
 "nbformat_minor": 2
}
