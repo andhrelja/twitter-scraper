{
 "cells": [
  {
   "cell_type": "code",
   "execution_count": 3,
   "metadata": {},
   "outputs": [],
   "source": [
    "import pandas as pd\n",
    "import networkx as nx\n",
    "import matplotlib.pyplot as plt\n",
    "\n",
    "from twitter_scraper import settings\n",
    "# from twitter_scraper.text.tweets import detect_language\n",
    "from twitter_scraper.text.tweets import get_stemmed_text\n",
    "from twitter_scraper.text.tweets import clean_twitter_text\n",
    "from twitter_scraper.clean.users import USER_DTYPE\n",
    "from twitter_scraper.clean.tweets import TWEET_DTYPE\n",
    "\n",
    "\n",
    "users_df = pd.read_csv(settings.USERS_CSV, dtype=USER_DTYPE)\n",
    "tweets_df = pd.read_csv(settings.TWEETS_CSV, dtype=TWEET_DTYPE)\n",
    "retweets_df = pd.read_csv(settings.EDGES_RETWEETS_CSV)\n",
    "retweets_df = retweets_df.loc[retweets_df['source'] != retweets_df['target']]\n",
    "\n",
    "user_idx = users_df[['user_id', 'screen_name']].set_index('user_id').to_dict()['screen_name']\n",
    "retweets_df['source'] = retweets_df['source'].transform(lambda x: user_idx[x])\n",
    "retweets_df['target'] = retweets_df['target'].transform(lambda x: user_idx[x])\n",
    "# retweets_df['full_text'] = retweets_df['full_text'].transform(clean_twitter_text)\n",
    "# retweets_df['langid'] = retweets_df['full_text'].transform(detect_language)"
   ]
  },
  {
   "cell_type": "code",
   "execution_count": 4,
   "metadata": {},
   "outputs": [
    {
     "data": {
      "text/html": [
       "<div>\n",
       "<style scoped>\n",
       "    .dataframe tbody tr th:only-of-type {\n",
       "        vertical-align: middle;\n",
       "    }\n",
       "\n",
       "    .dataframe tbody tr th {\n",
       "        vertical-align: top;\n",
       "    }\n",
       "\n",
       "    .dataframe thead th {\n",
       "        text-align: right;\n",
       "    }\n",
       "</style>\n",
       "<table border=\"1\" class=\"dataframe\">\n",
       "  <thead>\n",
       "    <tr style=\"text-align: right;\">\n",
       "      <th></th>\n",
       "      <th>source</th>\n",
       "      <th>target</th>\n",
       "      <th>rt_tweet_id</th>\n",
       "      <th>full_text</th>\n",
       "      <th>og_tweet_id</th>\n",
       "      <th>rt_time_elapsed_sec</th>\n",
       "    </tr>\n",
       "  </thead>\n",
       "  <tbody>\n",
       "    <tr>\n",
       "      <th>0</th>\n",
       "      <td>sdewes_centre</td>\n",
       "      <td>TihomirTomic</td>\n",
       "      <td>1504789813433671682</td>\n",
       "      <td>RT @sdewes_centre: SPECIAL ISSUES :: What is t...</td>\n",
       "      <td>1481965822100729856</td>\n",
       "      <td>5441663.0</td>\n",
       "    </tr>\n",
       "    <tr>\n",
       "      <th>2</th>\n",
       "      <td>HNS_CFF</td>\n",
       "      <td>LukaVeso</td>\n",
       "      <td>1575092693482414080</td>\n",
       "      <td>RT @HNS_CFF: 🇭🇷 #Croatia on 🔝 seems just fine ...</td>\n",
       "      <td>1575027254232764416</td>\n",
       "      <td>NaN</td>\n",
       "    </tr>\n",
       "    <tr>\n",
       "      <th>3</th>\n",
       "      <td>gnkdinamo</td>\n",
       "      <td>LukaVeso</td>\n",
       "      <td>1567224091236614149</td>\n",
       "      <td>RT @gnkdinamo: FT 90'+8 Dinamo - Chelsea 1:0 (...</td>\n",
       "      <td>1567221760524795904</td>\n",
       "      <td>556.0</td>\n",
       "    </tr>\n",
       "    <tr>\n",
       "      <th>4</th>\n",
       "      <td>HNS_CFF</td>\n",
       "      <td>LukaVeso</td>\n",
       "      <td>1562569249687605249</td>\n",
       "      <td>RT @HNS_CFF: Čestitamo! @gnkdinamo branit će h...</td>\n",
       "      <td>1562569135804264448</td>\n",
       "      <td>NaN</td>\n",
       "    </tr>\n",
       "    <tr>\n",
       "      <th>5</th>\n",
       "      <td>natasazecevic</td>\n",
       "      <td>susacp11</td>\n",
       "      <td>1526577980746649610</td>\n",
       "      <td>RT @natasazecevic: Rastavio ga https://t.co/UE...</td>\n",
       "      <td>1526468312099586048</td>\n",
       "      <td>NaN</td>\n",
       "    </tr>\n",
       "    <tr>\n",
       "      <th>...</th>\n",
       "      <td>...</td>\n",
       "      <td>...</td>\n",
       "      <td>...</td>\n",
       "      <td>...</td>\n",
       "      <td>...</td>\n",
       "      <td>...</td>\n",
       "    </tr>\n",
       "    <tr>\n",
       "      <th>53509</th>\n",
       "      <td>hkresic</td>\n",
       "      <td>DNEVNIKhr</td>\n",
       "      <td>1582314780836384769</td>\n",
       "      <td>RT @hkresic: Davor Mayer odgovara Zekanoviću (...</td>\n",
       "      <td>1582314230149041920</td>\n",
       "      <td>NaN</td>\n",
       "    </tr>\n",
       "    <tr>\n",
       "      <th>53510</th>\n",
       "      <td>BuljanNovaTV</td>\n",
       "      <td>DNEVNIKhr</td>\n",
       "      <td>1582314762259828736</td>\n",
       "      <td>RT @BuljanNovaTV: Hrvoje Zekanović tvrdi - 5 M...</td>\n",
       "      <td>1582311143002890240</td>\n",
       "      <td>NaN</td>\n",
       "    </tr>\n",
       "    <tr>\n",
       "      <th>53511</th>\n",
       "      <td>hkresic</td>\n",
       "      <td>DNEVNIKhr</td>\n",
       "      <td>1582314743087316993</td>\n",
       "      <td>RT @hkresic: Nakon što je izazvao incident na ...</td>\n",
       "      <td>1582312816291491840</td>\n",
       "      <td>NaN</td>\n",
       "    </tr>\n",
       "    <tr>\n",
       "      <th>53512</th>\n",
       "      <td>BuljanNovaTV</td>\n",
       "      <td>DNEVNIKhr</td>\n",
       "      <td>1582299166817910784</td>\n",
       "      <td>RT @BuljanNovaTV: Počela sjednica Antikorupcij...</td>\n",
       "      <td>1582299038384201728</td>\n",
       "      <td>30.0</td>\n",
       "    </tr>\n",
       "    <tr>\n",
       "      <th>53513</th>\n",
       "      <td>hkresic</td>\n",
       "      <td>DNEVNIKhr</td>\n",
       "      <td>1582297490975432704</td>\n",
       "      <td>RT @hkresic: Bivši član Uprave #INA Davor Maye...</td>\n",
       "      <td>1582296131924434688</td>\n",
       "      <td>NaN</td>\n",
       "    </tr>\n",
       "  </tbody>\n",
       "</table>\n",
       "<p>47434 rows × 6 columns</p>\n",
       "</div>"
      ],
      "text/plain": [
       "              source        target          rt_tweet_id  \\\n",
       "0      sdewes_centre  TihomirTomic  1504789813433671682   \n",
       "2            HNS_CFF      LukaVeso  1575092693482414080   \n",
       "3          gnkdinamo      LukaVeso  1567224091236614149   \n",
       "4            HNS_CFF      LukaVeso  1562569249687605249   \n",
       "5      natasazecevic      susacp11  1526577980746649610   \n",
       "...              ...           ...                  ...   \n",
       "53509        hkresic     DNEVNIKhr  1582314780836384769   \n",
       "53510   BuljanNovaTV     DNEVNIKhr  1582314762259828736   \n",
       "53511        hkresic     DNEVNIKhr  1582314743087316993   \n",
       "53512   BuljanNovaTV     DNEVNIKhr  1582299166817910784   \n",
       "53513        hkresic     DNEVNIKhr  1582297490975432704   \n",
       "\n",
       "                                               full_text          og_tweet_id  \\\n",
       "0      RT @sdewes_centre: SPECIAL ISSUES :: What is t...  1481965822100729856   \n",
       "2      RT @HNS_CFF: 🇭🇷 #Croatia on 🔝 seems just fine ...  1575027254232764416   \n",
       "3      RT @gnkdinamo: FT 90'+8 Dinamo - Chelsea 1:0 (...  1567221760524795904   \n",
       "4      RT @HNS_CFF: Čestitamo! @gnkdinamo branit će h...  1562569135804264448   \n",
       "5      RT @natasazecevic: Rastavio ga https://t.co/UE...  1526468312099586048   \n",
       "...                                                  ...                  ...   \n",
       "53509  RT @hkresic: Davor Mayer odgovara Zekanoviću (...  1582314230149041920   \n",
       "53510  RT @BuljanNovaTV: Hrvoje Zekanović tvrdi - 5 M...  1582311143002890240   \n",
       "53511  RT @hkresic: Nakon što je izazvao incident na ...  1582312816291491840   \n",
       "53512  RT @BuljanNovaTV: Počela sjednica Antikorupcij...  1582299038384201728   \n",
       "53513  RT @hkresic: Bivši član Uprave #INA Davor Maye...  1582296131924434688   \n",
       "\n",
       "       rt_time_elapsed_sec  \n",
       "0                5441663.0  \n",
       "2                      NaN  \n",
       "3                    556.0  \n",
       "4                      NaN  \n",
       "5                      NaN  \n",
       "...                    ...  \n",
       "53509                  NaN  \n",
       "53510                  NaN  \n",
       "53511                  NaN  \n",
       "53512                 30.0  \n",
       "53513                  NaN  \n",
       "\n",
       "[47434 rows x 6 columns]"
      ]
     },
     "execution_count": 4,
     "metadata": {},
     "output_type": "execute_result"
    }
   ],
   "source": [
    "# retweets_df['stemmed_text'] = retweets_df['full_text'].transform(get_stemmed_text)\n",
    "retweets_df"
   ]
  },
  {
   "cell_type": "code",
   "execution_count": null,
   "metadata": {},
   "outputs": [],
   "source": []
  },
  {
   "cell_type": "code",
   "execution_count": null,
   "metadata": {},
   "outputs": [],
   "source": [
    "# retweet_tweet_ids = retweets_df.og_tweet_id.value_counts().index\n",
    "retweets_df.og_tweet_id.value_counts()"
   ]
  },
  {
   "cell_type": "code",
   "execution_count": null,
   "metadata": {},
   "outputs": [],
   "source": [
    "tweets_df.langid.value_counts()[:15].plot.bar(rot=0)"
   ]
  },
  {
   "cell_type": "code",
   "execution_count": null,
   "metadata": {},
   "outputs": [],
   "source": [
    "fig, axs = plt.subplots(1, 2, figsize=(24, 8))\n",
    "\n",
    "source_retweets_df = pd.DataFrame(retweets_df.source.value_counts())[:15].join(users_df[['user_id', 'screen_name']].set_index('user_id')).sort_values('source', ascending=False)\n",
    "source_retweets_df.plot.bar(x='screen_name', y='source', rot=30, title='Most retweeted sources', ax=axs[0])\n",
    "\n",
    "target_retweets_df = pd.DataFrame(retweets_df.target.value_counts())[:15].join(users_df[['user_id', 'screen_name']].set_index('user_id')).sort_values('target', ascending=False)\n",
    "target_retweets_df.plot.bar(x='screen_name', y='target', rot=30, title='Most retweeting targets', ax=axs[1])\n",
    "plt.show()"
   ]
  },
  {
   "cell_type": "code",
   "execution_count": null,
   "metadata": {},
   "outputs": [],
   "source": [
    "tweets_df[tweets_df['id'] == str(1501227789437255680)]"
   ]
  },
  {
   "cell_type": "code",
   "execution_count": null,
   "metadata": {},
   "outputs": [],
   "source": [
    "retweets_df.loc[retweets_df['source'].isin(source_retweets_df.index) | retweets_df['target'].isin(target_retweets_df.index)]"
   ]
  },
  {
   "cell_type": "code",
   "execution_count": null,
   "metadata": {},
   "outputs": [],
   "source": [
    "fig, ax = plt.subplots(figsize=(18, 15))\n",
    "\n",
    "\n",
    "G = nx.from_pandas_edgelist(retweets_df.loc[retweets_df['source'].isin(source_retweets_df.index) | retweets_df['target'].isin(target_retweets_df.index)], edge_attr='rt_time_elapsed_sec')\n",
    "nx.draw_spring(G, node_size=20, ax=ax, labels=user_idx)"
   ]
  },
  {
   "cell_type": "code",
   "execution_count": null,
   "metadata": {},
   "outputs": [],
   "source": [
    "G = nx.from_pandas_edgelist(retweets_df, create_using=nx.DiGraph)\n",
    "dg_centrality = nx.degree_centrality(G)\n",
    "dg_centrality = [{'user_id': key, 'user_name': users_df.loc[users_df['user_id'] == key].screen_name.values[0], 'centrality': value} for key, value in dg_centrality.items()]\n",
    "sorted_dg_centrailty = sorted(dg_centrality, key=lambda x: x['centrality'], reverse=True)\n",
    "best_dg_centrality = sorted_dg_centrailty[:10]\n",
    "best_dg_centrality"
   ]
  },
  {
   "cell_type": "code",
   "execution_count": null,
   "metadata": {},
   "outputs": [],
   "source": [
    "from twitter_scraper.utils import fileio\n",
    "from twitter_scraper.text.tweets import get_stemmed_text\n",
    "\n",
    "best_dg_centrality_user_ids = [item['user_id'] for item in best_dg_centrality]\n",
    "\n",
    "def get_central_user_tweets():\n",
    "    user_tweet_records = tweets_df[tweets_df['user_id'].isin(best_dg_centrality_user_ids)][['user_id', 'full_text']].to_dict(orient='records')\n",
    "    central_user_tweets = {}\n",
    "    for item in user_tweet_records:\n",
    "        user_id = item['user_id']\n",
    "        if user_id in central_user_tweets:\n",
    "            central_user_tweets[user_id].append(item['full_text'])\n",
    "        else:\n",
    "            central_user_tweets[user_id] = [item['full_text']]\n",
    "    return central_user_tweets\n",
    "\n",
    "\n",
    "central_user_tweets = get_central_user_tweets()\n",
    "most_occuring_keywords = {}\n",
    "for user_id in best_dg_centrality_user_ids:\n",
    "    word_count = most_occuring_keywords.get(user_idx[user_id], {})\n",
    "    for text in central_user_tweets[user_id]:\n",
    "        text = get_stemmed_text(text)\n",
    "        for word in text:\n",
    "            if word in word_count:\n",
    "                word_count[word] += 1\n",
    "            else:\n",
    "                word_count[word] = 1\n",
    "    most_occuring_keywords[user_idx[user_id]] = word_count\n",
    "# fileio.write_content('most_occuring_keywords.json', most_occuring_keywords, 'json')\n",
    "print(most_occuring_keywords[user_idx[user_id]])"
   ]
  },
  {
   "cell_type": "code",
   "execution_count": null,
   "metadata": {},
   "outputs": [],
   "source": [
    "tweets_df[tweets_df['user_id'].isin(best_dg_centrality_user_ids)][['user_id', 'full_text']].to_dict(orient='records')"
   ]
  },
  {
   "cell_type": "code",
   "execution_count": null,
   "metadata": {},
   "outputs": [],
   "source": [
    "import tweepy\n",
    "\n",
    "conn_details = settings.connections['andhrelja']\n",
    "auth = tweepy.OAuthHandler(conn_details['consumer_key'], conn_details['consumer_secret'])\n",
    "auth.set_access_token(conn_details['access_key'], conn_details['access_secret'])\n",
    "api = tweepy.API(auth, wait_on_rate_limit=True)"
   ]
  },
  {
   "cell_type": "code",
   "execution_count": null,
   "metadata": {},
   "outputs": [],
   "source": [
    "retweets = api.get_retweets(1555473887336472576)"
   ]
  },
  {
   "cell_type": "code",
   "execution_count": null,
   "metadata": {},
   "outputs": [],
   "source": [
    "len(retweets)"
   ]
  },
  {
   "cell_type": "code",
   "execution_count": null,
   "metadata": {},
   "outputs": [],
   "source": [
    "pd.DataFrame(api.supported_languages()).sort_values('code').reset_index(drop=True)"
   ]
  },
  {
   "cell_type": "code",
   "execution_count": null,
   "metadata": {},
   "outputs": [],
   "source": []
  }
 ],
 "metadata": {
  "kernelspec": {
   "display_name": "Python 3.8.10 ('twitter_scraper')",
   "language": "python",
   "name": "python3"
  },
  "language_info": {
   "codemirror_mode": {
    "name": "ipython",
    "version": 3
   },
   "file_extension": ".py",
   "mimetype": "text/x-python",
   "name": "python",
   "nbconvert_exporter": "python",
   "pygments_lexer": "ipython3",
   "version": "3.8.10"
  },
  "orig_nbformat": 4,
  "vscode": {
   "interpreter": {
    "hash": "967e65d78b012836ccc9230f84f154fbeb6a66551d2543767befd0989f69ed55"
   }
  }
 },
 "nbformat": 4,
 "nbformat_minor": 2
}
