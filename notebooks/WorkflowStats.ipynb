{
 "cells": [
  {
   "cell_type": "code",
   "execution_count": 1,
   "metadata": {},
   "outputs": [
    {
     "ename": "FileNotFoundError",
     "evalue": "[Errno 2] No such file or directory: '../../input/baseline-user-ids.json'",
     "output_type": "error",
     "traceback": [
      "\u001b[0;31m---------------------------------------------------------------------------\u001b[0m",
      "\u001b[0;31mFileNotFoundError\u001b[0m                         Traceback (most recent call last)",
      "\u001b[1;32m/home/milky/infocov/twitter_scraper/notebooks/WorkflowStats.ipynb Cell 1\u001b[0m in \u001b[0;36m<module>\u001b[0;34m\u001b[0m\n\u001b[1;32m     <a href='vscode-notebook-cell://ssh-remote%2B7b22686f73744e616d65223a22696e666f636f762d636f6d707574652e756e6972692e6872222c2275736572223a226d696c6b79227d/home/milky/infocov/twitter_scraper/notebooks/WorkflowStats.ipynb#ch0000000vscode-remote?line=11'>12</a>\u001b[0m     \u001b[39mwith\u001b[39;00m \u001b[39mopen\u001b[39m(filepath, \u001b[39m'\u001b[39m\u001b[39mr\u001b[39m\u001b[39m'\u001b[39m) \u001b[39mas\u001b[39;00m f:\n\u001b[1;32m     <a href='vscode-notebook-cell://ssh-remote%2B7b22686f73744e616d65223a22696e666f636f762d636f6d707574652e756e6972692e6872222c2275736572223a226d696c6b79227d/home/milky/infocov/twitter_scraper/notebooks/WorkflowStats.ipynb#ch0000000vscode-remote?line=12'>13</a>\u001b[0m         \u001b[39mreturn\u001b[39;00m json\u001b[39m.\u001b[39mload(f)\n\u001b[0;32m---> <a href='vscode-notebook-cell://ssh-remote%2B7b22686f73744e616d65223a22696e666f636f762d636f6d707574652e756e6972692e6872222c2275736572223a226d696c6b79227d/home/milky/infocov/twitter_scraper/notebooks/WorkflowStats.ipynb#ch0000000vscode-remote?line=14'>15</a>\u001b[0m baseline_user_ids \u001b[39m=\u001b[39m read_json(baseline_user_ids_f)\n\u001b[1;32m     <a href='vscode-notebook-cell://ssh-remote%2B7b22686f73744e616d65223a22696e666f636f762d636f6d707574652e756e6972692e6872222c2275736572223a226d696c6b79227d/home/milky/infocov/twitter_scraper/notebooks/WorkflowStats.ipynb#ch0000000vscode-remote?line=15'>16</a>\u001b[0m missing_user_ids \u001b[39m=\u001b[39m read_json(missing_user_ids_f)\n\u001b[1;32m     <a href='vscode-notebook-cell://ssh-remote%2B7b22686f73744e616d65223a22696e666f636f762d636f6d707574652e756e6972692e6872222c2275736572223a226d696c6b79227d/home/milky/infocov/twitter_scraper/notebooks/WorkflowStats.ipynb#ch0000000vscode-remote?line=16'>17</a>\u001b[0m processed_user_ids \u001b[39m=\u001b[39m read_json(processed_user_ids_f)\n",
      "\u001b[1;32m/home/milky/infocov/twitter_scraper/notebooks/WorkflowStats.ipynb Cell 1\u001b[0m in \u001b[0;36mread_json\u001b[0;34m(filepath)\u001b[0m\n\u001b[1;32m     <a href='vscode-notebook-cell://ssh-remote%2B7b22686f73744e616d65223a22696e666f636f762d636f6d707574652e756e6972692e6872222c2275736572223a226d696c6b79227d/home/milky/infocov/twitter_scraper/notebooks/WorkflowStats.ipynb#ch0000000vscode-remote?line=10'>11</a>\u001b[0m \u001b[39mdef\u001b[39;00m \u001b[39mread_json\u001b[39m(filepath):\n\u001b[0;32m---> <a href='vscode-notebook-cell://ssh-remote%2B7b22686f73744e616d65223a22696e666f636f762d636f6d707574652e756e6972692e6872222c2275736572223a226d696c6b79227d/home/milky/infocov/twitter_scraper/notebooks/WorkflowStats.ipynb#ch0000000vscode-remote?line=11'>12</a>\u001b[0m     \u001b[39mwith\u001b[39;00m \u001b[39mopen\u001b[39;49m(filepath, \u001b[39m'\u001b[39;49m\u001b[39mr\u001b[39;49m\u001b[39m'\u001b[39;49m) \u001b[39mas\u001b[39;00m f:\n\u001b[1;32m     <a href='vscode-notebook-cell://ssh-remote%2B7b22686f73744e616d65223a22696e666f636f762d636f6d707574652e756e6972692e6872222c2275736572223a226d696c6b79227d/home/milky/infocov/twitter_scraper/notebooks/WorkflowStats.ipynb#ch0000000vscode-remote?line=12'>13</a>\u001b[0m         \u001b[39mreturn\u001b[39;00m json\u001b[39m.\u001b[39mload(f)\n",
      "\u001b[0;31mFileNotFoundError\u001b[0m: [Errno 2] No such file or directory: '../../input/baseline-user-ids.json'"
     ]
    }
   ],
   "source": [
    "import json\n",
    "import pandas as pd\n",
    "\n",
    "baseline_user_ids_f = '../../input/baseline-user-ids.json'\n",
    "\n",
    "missing_user_ids_f = '../../input/missing-user-ids.json'\n",
    "processed_user_ids_f = '../../input/processed-user-ids.json'\n",
    "processed_user_objs_f = '../../input/processed-user-objs.json'\n",
    "processed_user_tweets_f = '../../input/processed-user-tweets.json'\n",
    "\n",
    "def read_json(filepath):\n",
    "    with open(filepath, 'r') as f:\n",
    "        return json.load(f)\n",
    "\n",
    "baseline_user_ids = read_json(baseline_user_ids_f)\n",
    "missing_user_ids = read_json(missing_user_ids_f)\n",
    "processed_user_ids = read_json(processed_user_ids_f)\n",
    "processed_user_objs = read_json(processed_user_objs_f)\n",
    "processed_user_tweets = read_json(processed_user_tweets_f)\n",
    "\n",
    "df = pd.DataFrame({\n",
    "    'counts': [\n",
    "        len(baseline_user_ids),\n",
    "        len(processed_user_ids),\n",
    "        len(processed_user_objs),\n",
    "        len(processed_user_tweets),\n",
    "        len(missing_user_ids),\n",
    "    ]}, index=['baseline_user_ids', 'processed_user_ids', 'processed_user_objs', 'processed_user_tweets', 'missing_user_ids'])\n",
    "df.plot.bar(rot=30)"
   ]
  },
  {
   "cell_type": "code",
   "execution_count": 9,
   "metadata": {},
   "outputs": [
    {
     "data": {
      "text/plain": [
       "<AxesSubplot:>"
      ]
     },
     "execution_count": 9,
     "metadata": {},
     "output_type": "execute_result"
    },
    {
     "data": {
      "image/png": "[encoded data removed]",
      "text/plain": [
       "<Figure size 432x288 with 1 Axes>"
      ]
     },
     "metadata": {
      "needs_background": "light"
     },
     "output_type": "display_data"
    }
   ],
   "source": [
    "import os\n",
    "user_ids_len = os.listdir('../../output/users/ids/2022-02-05/')\n",
    "user_objs_df = pd.read_csv('../../output/users/objs/2022-02-06/user-objs.csv')\n",
    "user_tweets_df = pd.read_csv('user_tweets.csv')\n",
    "\n",
    "pd.DataFrame({\n",
    "    'counts': [\n",
    "        len(baseline_user_ids),\n",
    "        len(user_ids_len),\n",
    "        len(user_objs_df),\n",
    "        len(user_tweets_df),\n",
    "    ]}, index=['baseline_user_ids', 'processed_user_ids', 'processed_user_objs', 'processed_user_tweets']) \\\n",
    "    .plot.bar(rot=30)"
   ]
  },
  {
   "cell_type": "code",
   "execution_count": null,
   "metadata": {},
   "outputs": [],
   "source": []
  }
 ],
 "metadata": {
  "kernelspec": {
   "display_name": "Python 3.8.10 ('twitter_scraper')",
   "language": "python",
   "name": "python3"
  },
  "language_info": {
   "codemirror_mode": {
    "name": "ipython",
    "version": 3
   },
   "file_extension": ".py",
   "mimetype": "text/x-python",
   "name": "python",
   "nbconvert_exporter": "python",
   "pygments_lexer": "ipython3",
   "version": "3.8.10"
  },
  "orig_nbformat": 4,
  "vscode": {
   "interpreter": {
    "hash": "967e65d78b012836ccc9230f84f154fbeb6a66551d2543767befd0989f69ed55"
   }
  }
 },
 "nbformat": 4,
 "nbformat_minor": 2
}
